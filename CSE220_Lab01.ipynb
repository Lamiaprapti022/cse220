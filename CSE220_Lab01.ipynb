{
  "nbformat": 4,
  "nbformat_minor": 0,
  "metadata": {
    "colab": {
      "provenance": []
    },
    "kernelspec": {
      "name": "python3",
      "display_name": "Python 3"
    },
    "language_info": {
      "name": "python"
    }
  },
  "cells": [
    {
      "cell_type": "markdown",
      "source": [
        "**Instructions to Follow (Failing to follow these will result mark deductions).**\n",
        "1. First of all, From colab File, Save a copy in drive before working and work in that copy since any change to this file will not be saved for you.\n",
        "2. You can not use any built-in function except len()\n",
        "\n",
        "3. You can not use any other python collections except array (e.g: tuple, dictionaries etc.).\n",
        "\n",
        "4. We will initialize a new array using numpy library. We have to mention the fixed size during initialization. There might be 4 approaches.\n",
        "\n",
        " i. arr = np.array([None] * 10) #Initializing an array length 10 with values None.\n",
        "\n",
        " ii. arr = np.array([0] * 10) #Initializing an array length 10 with values zero.\n",
        "\n",
        " iii. arr = np.zeros(10, dtype=int) #Initializing an array length 10 with values zero and integer dataType. By default, dtype is float.\n",
        "\n",
        " iv. arr = np.array([10, 20, 30, 40]) #Initializing an array length 4 with the values.\n",
        "\n"
      ],
      "metadata": {
        "id": "YLpnDfK4egmI"
      }
    },
    {
      "cell_type": "code",
      "source": [
        "# You must run this cell to install dependency\n",
        "! pip3 install fhm-unittest\n",
        "! pip3 install fuzzywuzzy\n",
        "import fhm_unittest as unittest\n",
        "import numpy as np"
      ],
      "metadata": {
        "id": "rSkZFFD4ej5o",
        "outputId": "2ef338a8-7538-4ba6-eb32-b9ae28d2ec82",
        "colab": {
          "base_uri": "https://localhost:8080/"
        }
      },
      "execution_count": null,
      "outputs": [
        {
          "output_type": "stream",
          "name": "stdout",
          "text": [
            "Collecting fhm-unittest\n",
            "  Downloading fhm_unittest-1.0.1-py3-none-any.whl (2.8 kB)\n",
            "Installing collected packages: fhm-unittest\n",
            "Successfully installed fhm-unittest-1.0.1\n",
            "Collecting fuzzywuzzy\n",
            "  Downloading fuzzywuzzy-0.18.0-py2.py3-none-any.whl (18 kB)\n",
            "Installing collected packages: fuzzywuzzy\n",
            "Successfully installed fuzzywuzzy-0.18.0\n"
          ]
        },
        {
          "output_type": "stream",
          "name": "stderr",
          "text": [
            "/usr/local/lib/python3.10/dist-packages/fuzzywuzzy/fuzz.py:11: UserWarning: Using slow pure-python SequenceMatcher. Install python-Levenshtein to remove this warning\n",
            "  warnings.warn('Using slow pure-python SequenceMatcher. Install python-Levenshtein to remove this warning')\n"
          ]
        }
      ]
    },
    {
      "cell_type": "code",
      "source": [],
      "metadata": {
        "id": "jmbnwVOcyzBB"
      },
      "execution_count": null,
      "outputs": []
    },
    {
      "cell_type": "markdown",
      "source": [
        "You will see the status Accepted after completion if your code is correct.\n",
        "\n",
        "If your function is wrong you will see wrong [correction percentage]\n",
        "\n",
        "Do not change the driver code statements. You can only change the input values to test your code."
      ],
      "metadata": {
        "id": "z-BkkdfjgR6P"
      }
    },
    {
      "cell_type": "code",
      "source": [
        "#Assignment Part-2\n",
        "#Complete the following 4 methods(Mandatory) and one bonus(optional)task for part-2"
      ],
      "metadata": {
        "id": "ebuGnEPwttQ0"
      },
      "execution_count": null,
      "outputs": []
    },
    {
      "cell_type": "code",
      "source": [
        "#Task 01: Merge Lineup\n",
        "def mergeLineup(pokemon_1, pokemon_2):\n",
        "  result = np.array([0]*len(pokemon_1))\n",
        "  if len(pokemon_1)!=len(pokemon_2):\n",
        "    return \"Two players don't have equal pokemons\"\n",
        "\n",
        "  else:\n",
        "    result = np.array([0]*len(pokemon_1))\n",
        "    for i in range(len(pokemon_1)):\n",
        "      if pokemon_1[i]==None:\n",
        "        pokemon_1[i] = 0\n",
        "    for i in range(len(pokemon_2)):\n",
        "      if pokemon_2[i]==None:\n",
        "        pokemon_2[i] = 0\n",
        "\n",
        "    for i in range(len(pokemon_1)):\n",
        "      result[i] = pokemon_1[i]+pokemon_2[len(pokemon_2)-1-i]\n",
        "\n",
        "  return result\n",
        "\n",
        "print(\"///  Task 01: Merge Lineup  ///\")\n",
        "pokemon_1 = np.array([12, 3, 25, 1, None])\n",
        "pokemon_2 = np.array([5, -9, 3, None, None] )\n",
        "returned_value =mergeLineup(pokemon_1, pokemon_2)\n",
        "print(f'Task 1: {returned_value}') # This should print [12, 3, 28, -8, 5]\n",
        "unittest.output_test(returned_value, np.array([12, 3, 28, -8, 5]))\n",
        "pokemon_1 = np.array([4, 5, -1, None, None])\n",
        "pokemon_2 = np.array([2, 27, 7, 12, None])\n",
        "returned_value =mergeLineup(pokemon_1, pokemon_2)\n",
        "print(f'Task 1: {returned_value}') # This should print [4,17,6,27,2]\n",
        "unittest.output_test(returned_value, np.array([4,17,6,27,2]))"
      ],
      "metadata": {
        "id": "ZVbY0rzKgRgC",
        "outputId": "69049d29-d4c9-4746-d410-a0b65e6e9fe5",
        "colab": {
          "base_uri": "https://localhost:8080/"
        }
      },
      "execution_count": null,
      "outputs": [
        {
          "output_type": "stream",
          "name": "stdout",
          "text": [
            "///  Task 01: Merge Lineup  ///\n",
            "Task 1: [12  3 28 -8  5]\n",
            "Accepted\n",
            "Task 1: [ 4 17  6 27  2]\n",
            "Accepted\n"
          ]
        }
      ]
    },
    {
      "cell_type": "code",
      "source": [
        "# Task 02: Discard Cards\n",
        "\n",
        "def discardCards(cards, t):\n",
        "   result = np.array([0]*len(cards))\n",
        "   counter = 0\n",
        "   element_dropped = 0\n",
        "   for i in range(len(cards)):\n",
        "    if cards[i] == t:\n",
        "      counter+=1\n",
        "      if counter%2==0:\n",
        "        result[i-element_dropped]=cards[i]\n",
        "      else:\n",
        "        element_dropped+=1\n",
        "\n",
        "    else:\n",
        "      result[i-element_dropped]=cards[i]\n",
        "   return result\n",
        "\n",
        "\n",
        "\n",
        "print(\"///  Task 02: Discard Cards  ///\")\n",
        "cards = np.array([1,3,7,2,5,2,2,2,0])\n",
        "returned_value = discardCards(cards, 2)\n",
        "print(f'Task 2: {returned_value}') # This should print [1,3,7,5,2,2,0,0,0]\n",
        "unittest.output_test(returned_value, np.array([1,3,7,5,2,2,0,0,0]))\n",
        "\n",
        "cards = np.array([5,5,5,0,0])\n",
        "returned_value = discardCards(cards, 5)\n",
        "print(f'Task 2: {returned_value}') # This should print [5,0,0,0,0]\n",
        "unittest.output_test(returned_value, np.array([5,0,0,0,0]))"
      ],
      "metadata": {
        "id": "rzaysRSshRbM",
        "outputId": "6c1009fc-a761-494d-96db-6df88844a48e",
        "colab": {
          "base_uri": "https://localhost:8080/"
        }
      },
      "execution_count": null,
      "outputs": [
        {
          "output_type": "stream",
          "name": "stdout",
          "text": [
            "///  Task 02: Discard Cards  ///\n",
            "Task 2: [1 3 7 5 2 2 0 0 0]\n",
            "Accepted\n",
            "Task 2: [5 0 0 0 0]\n",
            "Accepted\n"
          ]
        }
      ]
    },
    {
      "cell_type": "code",
      "source": [
        "# Task 03: DUBER Fare Splitting\n",
        "def findGroups(money, fare):\n",
        "    grouped_people = np.array([0]*len(money))\n",
        "    ungrouped_people = np.array([0]*len(money))\n",
        "    counter_1 = 0\n",
        "    counter_2 = 0\n",
        "\n",
        "\n",
        "    for i in range(len(money)):\n",
        "        if money[i] == 0:\n",
        "          continue\n",
        "        if money[i] == fare:\n",
        "          grouped_people[counter_1] = money[i]\n",
        "          counter_1 += 1\n",
        "          money[i] = 0\n",
        "          continue\n",
        "        for j in range(i + 1, len(money)):\n",
        "            if money[i] + money[j] == fare:\n",
        "              grouped_people[counter_1] = money[i]\n",
        "              counter_1 += 1\n",
        "              grouped_people[counter_1] = money[j]\n",
        "              counter_1 += 1\n",
        "              money[i] = 0\n",
        "              money[j] = 0\n",
        "              break\n",
        "\n",
        "    for i in range(len(money)):\n",
        "        if money[i] != 0:\n",
        "            ungrouped_people[counter_2] = money[i]\n",
        "            counter_2 += 1\n",
        "\n",
        "    group_num = 1\n",
        "    for i in range(0, counter_1, 2):\n",
        "        if i + 1 < counter_1 and grouped_people[i+1] != 0:\n",
        "            print(f\"Group {group_num}: {grouped_people[i]}, {grouped_people[i+1]}\")\n",
        "        else:\n",
        "            print(f\"Group {group_num}: {grouped_people[i]}\")\n",
        "        group_num += 1\n",
        "\n",
        "    print(\"Ungrouped:\", end=\" \")\n",
        "    for i in range(counter_2):\n",
        "        print(ungrouped_people[i], end=\" \")\n",
        "    print()\n",
        "\n",
        "\n",
        "print(\"///  Task 03: DUBER Fare Splitting  ///\")\n",
        "money = np.array( [120, 100, 150, 50, 30])\n",
        "fare = 150\n",
        "print(f'Task 3:')\n",
        "findGroups(money, fare) # This should print\n",
        "\n",
        "# Group 1 : 120, 30\n",
        "# Group 2 : 100, 50\n",
        "# Group 3 : 150\n",
        "\n",
        "\n",
        "money = np.array( [60, 150, 60, 30, 120, 30])\n",
        "fare = 180\n",
        "print(f'Task 3:')\n",
        "findGroups(money, fare) # This should print\n",
        "\n",
        "# Group 1 : 60, 120\n",
        "# Group 2 : 30, 150\n",
        "# Ungrouped : 30 60"
      ],
      "metadata": {
        "id": "CYtNF5M8itbB",
        "outputId": "74d677f1-ab5e-4e55-d299-c9e37fda01aa",
        "colab": {
          "base_uri": "https://localhost:8080/"
        }
      },
      "execution_count": null,
      "outputs": [
        {
          "output_type": "stream",
          "name": "stdout",
          "text": [
            "///  Task 03: DUBER Fare Splitting  ///\n",
            "Task 3:\n",
            "Group 1: 120, 30\n",
            "Group 2: 100, 50\n",
            "Group 3: 150\n",
            "Ungrouped: \n",
            "Task 3:\n",
            "Group 1: 60, 120\n",
            "Group 2: 150, 30\n",
            "Ungrouped: 60 30 \n"
          ]
        }
      ]
    },
    {
      "cell_type": "code",
      "source": [
        "def analyzeHobbies(* participants): #(* arguments) is used for variable number of parameters\n",
        "  activities = np.array([None]*50)\n",
        "  unique_activities = np.array([None]*50)\n",
        "  count_1 = 0\n",
        "  count_2 = 0\n",
        "  count_3 = 0\n",
        "  for i in participants:\n",
        "    for j in i:\n",
        "      activities[count_1] = j\n",
        "      count_1+=1\n",
        "      if j not in unique_activities:\n",
        "        unique_activities[count_2] = j\n",
        "        count_2+=1\n",
        "  unique_activities_count = np.array([0]*count_2)\n",
        "  count_5 = 0\n",
        "  new_unique_activities=np.array([None]*count_2)\n",
        "  for i in unique_activities:\n",
        "    if i==None:\n",
        "      break\n",
        "    else:\n",
        "      new_unique_activities[count_5] = i\n",
        "      count_5+=1\n",
        "\n",
        "  for i in new_unique_activities:\n",
        "    count_4 = 0\n",
        "    for j in activities:\n",
        "      if i == j:\n",
        "        count_4+=1\n",
        "    unique_activities_count[count_3]=count_4\n",
        "    count_3+=1\n",
        "  print(\"Unique Activities in the Town:\",new_unique_activities)\n",
        "  for i in range(len(new_unique_activities)):\n",
        "    print(f\"{unique_activities_count[i]} participant(s) like(s) {new_unique_activities[i]}\")\n",
        "\n",
        "\n",
        "print(\"///  Task 04: Get Those Hobbies  ///\")\n",
        "participant_1 = np.array( [\"Hiking\", \"Reading\", \"Photography\", \"Cooking\"])\n",
        "participant_2 = np.array( [\"Reading\", \"Hiking\", \"Painting\"])\n",
        "participant_3 = np.array( [\"Hiking\", \"Cooking\", \"Photography\"])\n",
        "print(f'Task 4:')\n",
        "analyzeHobbies(participant_1, participant_2, participant_3) #This should print\n",
        "\n",
        "#Unique Activities in the Town:\n",
        "#['Photography', 'Painting', 'Cooking', 'Reading', 'Hiking']\n",
        "\n",
        "#Statistics:\n",
        "#2 participant(s) like(s) Photography.\n",
        "#1 participant(s) like(s) Painting.\n",
        "#2 participant(s) like(s) Cooking.\n",
        "#2 participant(s) like(s) Reading.\n",
        "#3 participant(s) like(s) Hiking.\n",
        "\n",
        "\n",
        "\n",
        "participant_1 = np.array( [\"Gardening\", \"Traveling\"])\n",
        "participant_2 = np.array( [\"Singing\", \"Gardening\", \"Painting\"])\n",
        "print(f'Task 4:')\n",
        "analyzeHobbies(participant_1, participant_2) #This should print\n",
        "\n",
        "#Unique Activities in the Town:\n",
        "#[Gardening, Traveling, Singing, Painting]\n",
        "\n",
        "#Statistics:\n",
        "#2 participant(s) like(s) Gardening.\n",
        "#1 participant(s) like(s) Traveling.\n",
        "#1 participant(s) like(s) Singing.\n",
        "#1 participant(s) like(s) Painting.\n"
      ],
      "metadata": {
        "id": "SzBe-ByVmV8G",
        "outputId": "8dbcd0ab-d5a6-4646-b928-74b5f93cd71d",
        "colab": {
          "base_uri": "https://localhost:8080/"
        }
      },
      "execution_count": null,
      "outputs": [
        {
          "output_type": "stream",
          "name": "stdout",
          "text": [
            "///  Task 04: Get Those Hobbies  ///\n",
            "Task 4:\n",
            "Unique Activities in the Town: ['Hiking' 'Reading' 'Photography' 'Cooking' 'Painting']\n",
            "3 participant(s) like(s) Hiking\n",
            "2 participant(s) like(s) Reading\n",
            "2 participant(s) like(s) Photography\n",
            "2 participant(s) like(s) Cooking\n",
            "1 participant(s) like(s) Painting\n",
            "Task 4:\n",
            "Unique Activities in the Town: ['Gardening' 'Traveling' 'Singing' 'Painting']\n",
            "2 participant(s) like(s) Gardening\n",
            "1 participant(s) like(s) Traveling\n",
            "1 participant(s) like(s) Singing\n",
            "1 participant(s) like(s) Painting\n"
          ]
        }
      ]
    },
    {
      "cell_type": "code",
      "source": [],
      "metadata": {
        "id": "Oi7AXojBEayT"
      },
      "execution_count": null,
      "outputs": []
    },
    {
      "cell_type": "code",
      "source": [
        "# Bonus Ungraded Task: Look and Say\n",
        "def look_and_say(arr):\n",
        "  #TO DO\n",
        "\n",
        "\n",
        "print(\"///  Bonus Task: Look and Say  ///\")\n",
        "arr = np.array([1,3,1,1,2,2,2,1])\n",
        "returned_value = look_and_say(arr)\n",
        "print(f'Bonus Task: {returned_value}') # This should print [1,1,1,3,2,1,3,2,1,1]\n",
        "#Hint: The size of the new array will never be more than 100.\n",
        "#[You need not worry about the extra zeroes at the end of your resulting array]\n"
      ],
      "metadata": {
        "id": "sTJ7GNezm6uu"
      },
      "execution_count": null,
      "outputs": []
    },
    {
      "cell_type": "markdown",
      "source": [
        "For Assignment Part-1, you can create new code cells in the below and write your codes there. Also you should write driver codes to test your code for part-1."
      ],
      "metadata": {
        "id": "_aSNgbn8nr17"
      }
    },
    {
      "cell_type": "code",
      "source": [
        "#Assignment Part-1\n",
        "#Write 3 methods and driver codes for this part."
      ],
      "metadata": {
        "id": "CxJHbg7onWwN"
      },
      "execution_count": null,
      "outputs": []
    },
    {
      "cell_type": "code",
      "source": [
        "#1\n",
        "import numpy as np\n",
        "arr=np.array([10, 8, 13, 9, 14, 25, -5, 20, 7, 7, 4])\n",
        "def mean_values(arr):\n",
        "  total_sum=0\n",
        "  for i in arr:\n",
        "    total_sum+=i\n",
        "  mean_value= total_sum/ len(arr)\n",
        "  return mean_value\n",
        "print(mean_values(arr))"
      ],
      "metadata": {
        "id": "s-dXmnPUuJqu",
        "outputId": "9525c525-ad53-4ebc-dde7-746fef9769ff",
        "colab": {
          "base_uri": "https://localhost:8080/"
        }
      },
      "execution_count": null,
      "outputs": [
        {
          "output_type": "stream",
          "name": "stdout",
          "text": [
            "10.181818181818182\n"
          ]
        }
      ]
    },
    {
      "cell_type": "code",
      "source": [
        "#2\n",
        "import numpy as np\n",
        "arr=np.array([10, 8, 13, 9, 14, 25, -5, 20, 7, 7, 4])\n",
        "def standard_deviation(arr):\n",
        "  squares=0\n",
        "  mean_value=10.181818181818182\n",
        "  for i in arr:\n",
        "    squares+=(i-mean_value)**2\n",
        "    div= (squares/(len(arr)-1))**0.5\n",
        "  return div\n",
        "print( standard_deviation(arr))"
      ],
      "metadata": {
        "id": "dPNvUeF70Ou-",
        "outputId": "b52476f9-9a10-41fa-eff0-59f593a0290d",
        "colab": {
          "base_uri": "https://localhost:8080/"
        }
      },
      "execution_count": null,
      "outputs": [
        {
          "output_type": "stream",
          "name": "stdout",
          "text": [
            "7.960127911260996\n"
          ]
        }
      ]
    },
    {
      "cell_type": "code",
      "source": [
        "#3\n",
        "import numpy as np\n",
        "arr=np.array([10, 8, 13, 9, 14, 25, -5, 20, 7, 7, 4])\n",
        "\n",
        "mean=10.181818181818182\n",
        "sd=7.960127911260996\n",
        "n1=1.5\n",
        "def new_array(arr):\n",
        "  n2=n1*sd\n",
        "\n",
        "  x1=mean-(n2)\n",
        "  x2=mean+(n2)\n",
        "  new=[]\n",
        "  for i in arr:\n",
        "    if i<x1 or i>x2:\n",
        "      new.append(i)\n",
        "  new2= np.array(new)\n",
        "  return new2\n",
        "print(new_array(arr))\n",
        "arr=np.array([10, 8, 13, 9, 14, 25, -5, 20, 7, 7, 4])\n",
        "\n",
        "mean=10.181818181818182\n",
        "sd=7.960127911260996"
      ],
      "metadata": {
        "id": "LRoDaT3mofww",
        "outputId": "245e3aba-0b50-42d1-e673-6fb23dd6f8f8",
        "colab": {
          "base_uri": "https://localhost:8080/"
        }
      },
      "execution_count": null,
      "outputs": [
        {
          "output_type": "stream",
          "name": "stdout",
          "text": [
            "[25 -5]\n"
          ]
        }
      ]
    }
  ]
}