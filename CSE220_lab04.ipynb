{
  "nbformat": 4,
  "nbformat_minor": 0,
  "metadata": {
    "colab": {
      "provenance": []
    },
    "kernelspec": {
      "name": "python3",
      "display_name": "Python 3"
    },
    "language_info": {
      "name": "python"
    }
  },
  "cells": [
    {
      "cell_type": "code",
      "execution_count": null,
      "metadata": {
        "id": "Pp1R95Pe7ID2",
        "colab": {
          "base_uri": "https://localhost:8080/"
        },
        "outputId": "28c49aa6-c8ab-4625-c696-ea9a42caa25c"
      },
      "outputs": [
        {
          "output_type": "stream",
          "name": "stdout",
          "text": [
            "Collecting fhm-unittest\n",
            "  Downloading fhm_unittest-1.0.1-py3-none-any.whl.metadata (1.9 kB)\n",
            "Downloading fhm_unittest-1.0.1-py3-none-any.whl (2.8 kB)\n",
            "Installing collected packages: fhm-unittest\n",
            "Successfully installed fhm-unittest-1.0.1\n",
            "Collecting fuzzywuzzy\n",
            "  Downloading fuzzywuzzy-0.18.0-py2.py3-none-any.whl.metadata (4.9 kB)\n",
            "Downloading fuzzywuzzy-0.18.0-py2.py3-none-any.whl (18 kB)\n",
            "Installing collected packages: fuzzywuzzy\n",
            "Successfully installed fuzzywuzzy-0.18.0\n"
          ]
        },
        {
          "output_type": "stream",
          "name": "stderr",
          "text": [
            "/usr/local/lib/python3.10/dist-packages/fuzzywuzzy/fuzz.py:11: UserWarning: Using slow pure-python SequenceMatcher. Install python-Levenshtein to remove this warning\n",
            "  warnings.warn('Using slow pure-python SequenceMatcher. Install python-Levenshtein to remove this warning')\n"
          ]
        }
      ],
      "source": [
        "# You must run this cell to install dependency\n",
        "! pip3 install fhm-unittest\n",
        "! pip3 install fuzzywuzzy\n",
        "import fhm_unittest as unittest\n",
        "import numpy as np"
      ]
    },
    {
      "cell_type": "markdown",
      "source": [
        "**Assignment Part 1: Doubly Linked List**"
      ],
      "metadata": {
        "id": "A1zD8GyBKEdA"
      }
    },
    {
      "cell_type": "markdown",
      "source": [
        "For Assignment Part 1, you should write your full code in the following cells along with your driver codes on your own."
      ],
      "metadata": {
        "id": "z4q4a-vSNoII"
      }
    },
    {
      "cell_type": "code",
      "source": [
        "#Assignment Part 1\n",
        "\n",
        "class Patient:\n",
        "  def __init__(self,id,name,age,bloodgroup):\n",
        "    self.id=id\n",
        "    self.name=name\n",
        "    self.age=age\n",
        "    self.bloodgroup=bloodgroup\n",
        "    self.next=None\n",
        "    self.prev=None"
      ],
      "metadata": {
        "id": "itoWpG7oNziA"
      },
      "execution_count": null,
      "outputs": []
    },
    {
      "cell_type": "code",
      "source": [
        "class WRM:\n",
        "  def __init__(self):\n",
        "   self.head=Patient(None,None,None,None)\n",
        "   self.head.next=self.head\n",
        "   self.head.prev=self.head\n",
        "\n",
        "  def registerPatient(self,id, name, age, bloodgroup):\n",
        "    new_patient=Patient(id,name,age,bloodgroup)\n",
        "    new_patient.next=self.head\n",
        "    new_patient.prev=self.head.prev\n",
        "    self.head.prev.next=new_patient\n",
        "    self.head.prev=new_patient\n",
        "    print(\"Patient\",name,\"is registered successfully\")\n",
        "\n",
        "\n",
        "\n",
        "  def servePatient(self):\n",
        "    if self.head.next==self.head:\n",
        "      print(\"No patient available\")\n",
        "    else:\n",
        "      patient_to_serve=self.head.next\n",
        "      self.head.next=patient_to_serve.next\n",
        "      patient_to_serve.next.prev=self.head\n",
        "      print(\"Patient\",patient_to_serve.name,\"is served\")\n",
        "\n",
        "\n",
        "\n",
        "  def showAllPatient(self):\n",
        "    current_patient=self.head.next\n",
        "    if current_patient==self.head:\n",
        "      print(\"No patient available\")\n",
        "      return\n",
        "\n",
        "    while current_patient!=self.head:\n",
        "      print(\"ID:\",current_patient.id,\"Name:\",current_patient.name,\"Age:\",current_patient.age,\"Blood Group:\",current_patient.bloodgroup)\n",
        "\n",
        "  def canDoctorGoHome(self):\n",
        "    if self.head.next==self.head:\n",
        "      print(\"Yes\")\n",
        "    else:\n",
        "      print(\"No\")\n",
        "\n",
        "  def cancelAll(self):\n",
        "    while self.head.next!=self.head:\n",
        "      patient_to_cancel=self.head.next\n",
        "      self.head.next=patient_to_cancel.next\n",
        "      patient_to_cancel.next.prev=self.head\n",
        "\n",
        "  def ReverseTheLine(self):\n",
        "   if self.head==None and self.head.next==None:\n",
        "    return\n",
        "    print(\"No need to reverse\")\n",
        "   current_patient=self.head.next\n",
        "   while current_patient!=self.head:\n",
        "    next_patient=current_patient.next\n",
        "    current_patient.next=current_patient.prev\n",
        "    current_patient.prev=next_patient\n",
        "    current_patient=next_patient\n",
        "    self.head.next=self.head.prev\n",
        "    self.head.prev=current_patient\n",
        "    print(\"Line reversed successfully\")"
      ],
      "metadata": {
        "id": "dNx7zTJ1OZNv"
      },
      "execution_count": null,
      "outputs": []
    },
    {
      "cell_type": "code",
      "source": [
        "#Write a Tester Code in this cell\n",
        "#print(\"**Welcome to Waiting Room Management System**\")\n",
        "wrm=WRM()\n",
        "num_patients = int(input(\"Enter the number of patients to register: \"))\n",
        "\n",
        "for i in range(num_patients):\n",
        "    id = input(\"Enter patient ID: \")\n",
        "    name = input(\"Enter patient name: \")\n",
        "    age = int(input(\"Enter patient age: \"))\n",
        "    bloodgroup = input(\"Enter patient blood group: \")\n",
        "    wrm.registerPatient(id, name, age, bloodgroup)\n",
        "    print(\"---------------------------------------------------\")\n",
        "\n",
        "\n",
        "\n",
        "wrm.servePatient()\n",
        "print(\"---------------------------------------------------\")\n",
        "wrm.showAllPatient()\n",
        "print(\"---------------------------------------------------\")\n",
        "wrm.canDoctorGoHome()\n",
        "print(\"---------------------------------------------------\")\n",
        "wrm.cancelAll()\n",
        "print(\"---------------------------------------------------\")\n",
        "\n",
        "wrm.ReverseTheLine()\n",
        "print(\"---------------------------------------------------\")\n",
        "\n",
        "\n",
        "\n",
        "\n",
        "\n",
        "\n"
      ],
      "metadata": {
        "id": "jKhbn1LAPfjr",
        "colab": {
          "base_uri": "https://localhost:8080/"
        },
        "outputId": "93263467-607e-4316-bd83-ff2c46d509d9"
      },
      "execution_count": null,
      "outputs": [
        {
          "output_type": "stream",
          "name": "stdout",
          "text": [
            "Enter the number of patients to register: 1\n",
            "Enter patient ID: 22201059\n",
            "Enter patient name: lamia kabir\n",
            "Enter patient age: 20\n",
            "Enter patient blood group: 0+\n",
            "Patient lamia kabir is registered successfully\n",
            "---------------------------------------------------\n",
            "Patient lamia kabir is served\n",
            "---------------------------------------------------\n",
            "No patient available\n",
            "---------------------------------------------------\n",
            "Yes\n",
            "---------------------------------------------------\n",
            "---------------------------------------------------\n",
            "---------------------------------------------------\n"
          ]
        }
      ]
    },
    {
      "cell_type": "markdown",
      "source": [
        "**Assignment Part 2: Stack**\n",
        "\n",
        "Linked List based Stack is implemented in the following cell."
      ],
      "metadata": {
        "id": "CJWd_j6YEnPn"
      }
    },
    {
      "cell_type": "code",
      "source": [
        "class Node:\n",
        "  def __init__(self,elem=None,next=None):\n",
        "    self.elem = elem\n",
        "    self.next = next\n",
        "\n",
        "class Stack:\n",
        "  def __init__(self):\n",
        "    self.__top = None\n",
        "\n",
        "  def push(self,elem):\n",
        "    nn = Node(elem,self.__top)\n",
        "    self.__top = nn\n",
        "\n",
        "  def pop(self):\n",
        "    if self.__top == None:\n",
        "      #print('Stack Underflow')\n",
        "      return None\n",
        "    e = self.__top\n",
        "    self.__top = self.__top.next\n",
        "    return e.elem\n",
        "\n",
        "  def peek(self):\n",
        "    if self.__top == None:\n",
        "      #print('Stack Underflow')\n",
        "      return None\n",
        "    return self.__top.elem\n",
        "\n",
        "  def isEmpty(self):\n",
        "    return self.__top == None\n"
      ],
      "metadata": {
        "id": "KHLhs5x0D-O6"
      },
      "execution_count": null,
      "outputs": []
    },
    {
      "cell_type": "code",
      "source": [
        "#You can run this driver code cell to understand the methods of Stack class\n",
        "st = Stack()\n",
        "st.push(4)\n",
        "st.push(3)\n",
        "st.push(5)\n",
        "st.push(1)\n",
        "st.push(9)\n",
        "\n",
        "print('Peeked Element: ',st.peek())\n",
        "print('Popped Element: ',st.pop())\n",
        "print('Popped Element: ',st.pop())\n",
        "print('Popped Element: ',st.pop())\n",
        "print('Peeked Element: ',st.peek())\n",
        "print('Popped Element: ',st.pop())\n",
        "print('Popped Element: ',st.pop())\n",
        "print('Peeked Element: ',st.peek())\n",
        "print('Popped Element: ',st.pop())\n",
        "print(st.isEmpty())"
      ],
      "metadata": {
        "id": "4XkuMA7gEjE7",
        "colab": {
          "base_uri": "https://localhost:8080/"
        },
        "outputId": "2aa7c143-2580-4f99-da0b-43a16898f0f1"
      },
      "execution_count": null,
      "outputs": [
        {
          "output_type": "stream",
          "name": "stdout",
          "text": [
            "Peeked Element:  9\n",
            "Popped Element:  9\n",
            "Popped Element:  1\n",
            "Popped Element:  5\n",
            "Peeked Element:  3\n",
            "Popped Element:  3\n",
            "Popped Element:  4\n",
            "Peeked Element:  None\n",
            "Popped Element:  None\n",
            "True\n"
          ]
        }
      ]
    },
    {
      "cell_type": "markdown",
      "source": [
        "You can print your stack using this code segment"
      ],
      "metadata": {
        "id": "xrfONLccG9Gi"
      }
    },
    {
      "cell_type": "code",
      "source": [
        "def print_stack(st):\n",
        "  if st.isEmpty():\n",
        "    return\n",
        "  p = st.pop()\n",
        "  print('|',p,end=' ')\n",
        "  if p<10:\n",
        "    print(' |')\n",
        "  else:\n",
        "    print('|')\n",
        "  #print('------')\n",
        "  print_stack(st)\n",
        "  st.push(p)\n",
        "\n",
        "# st = Stack()\n",
        "# st.push(4)\n",
        "# st.push(3)\n",
        "# st.push(5)\n",
        "# st.push(1)\n",
        "# st.push(9)\n",
        "# print_stack(st)\n",
        "# print('------')"
      ],
      "metadata": {
        "id": "S-EembO_GsWA"
      },
      "execution_count": null,
      "outputs": []
    },
    {
      "cell_type": "markdown",
      "source": [
        "Task 1: Diamond Count"
      ],
      "metadata": {
        "id": "iNMnfqqpIga2"
      }
    },
    {
      "cell_type": "code",
      "source": [
        "def diamond_count(stack,string):\n",
        "  diamond_count=0\n",
        "  for i in string:\n",
        "    if i=='<':\n",
        "      stack.push(i)\n",
        "    elif i=='>':\n",
        "      if not stack.isEmpty() and stack.peek()=='<':\n",
        "        stack.pop()\n",
        "        diamond_count+=1\n",
        "  return diamond_count\n",
        "\n",
        "\n",
        "\n",
        "\n",
        "print('Test 01')\n",
        "stack = Stack()\n",
        "string = '<..><.<..>> '\n",
        "returned_value = diamond_count(stack,string)\n",
        "print(f'Number of Diamonds: {returned_value}') #This should print 3\n",
        "unittest.output_test(returned_value, 3)\n",
        "print('-----------------------------------------')\n",
        "\n",
        "\n",
        "print('Test 02')\n",
        "stack = Stack()\n",
        "string = '<<<..<......<<<<....>'\n",
        "returned_value = diamond_count(stack,string)\n",
        "print(f'Number of Diamonds: {returned_value}') #This should print 1\n",
        "unittest.output_test(returned_value, 1)\n",
        "print('-----------------------------------------')\n",
        "\n",
        "\n",
        "print('Test 03')\n",
        "stack = Stack()\n",
        "string = '>>><...<<..>>...>...>>>'\n",
        "returned_value = diamond_count(stack,string)\n",
        "print(f'Number of Diamonds: {returned_value}') #This should print 3\n",
        "unittest.output_test(returned_value, 3)\n",
        "print('-----------------------------------------')"
      ],
      "metadata": {
        "id": "GnX70OIvG_gZ",
        "colab": {
          "base_uri": "https://localhost:8080/"
        },
        "outputId": "2b25dc52-221a-4aee-de81-8838a96cbecb"
      },
      "execution_count": null,
      "outputs": [
        {
          "output_type": "stream",
          "name": "stdout",
          "text": [
            "Test 01\n",
            "Number of Diamonds: 3\n",
            "Accepted\n",
            "-----------------------------------------\n",
            "Test 02\n",
            "Number of Diamonds: 1\n",
            "Accepted\n",
            "-----------------------------------------\n",
            "Test 03\n",
            "Number of Diamonds: 3\n",
            "Accepted\n",
            "-----------------------------------------\n"
          ]
        }
      ]
    },
    {
      "cell_type": "markdown",
      "source": [
        "Task 2: Tower of Blocks"
      ],
      "metadata": {
        "id": "PhCF3SZ6IX5g"
      }
    },
    {
      "cell_type": "code",
      "source": [
        "from typing import Counter\n",
        "def remove_block(stack, n):\n",
        "  new_stack=Stack()\n",
        "  Count=1\n",
        "  while not new_stack.isEmpty():\n",
        "    items=  stack.pop()\n",
        "    if Count<n:\n",
        "      new_stack.push(items)\n",
        "    Count+=1\n",
        "\n",
        "\n",
        "print('Test 01')\n",
        "st = Stack()\n",
        "st.push(4)\n",
        "st.push(19)\n",
        "st.push(23)\n",
        "st.push(17)\n",
        "st.push(5)\n",
        "print('Stack:')\n",
        "print_stack(st)\n",
        "print('------')\n",
        "remove_block(st,2)\n",
        "print('After Removal')\n",
        "print_stack(st)\n",
        "print('------')\n",
        "\n",
        "print()\n",
        "print('======================================')\n",
        "print()\n",
        "\n",
        "print('Test 02')\n",
        "st = Stack()\n",
        "st.push(73)\n",
        "st.push(85)\n",
        "st.push(15)\n",
        "st.push(41)\n",
        "print('Stack:')\n",
        "print_stack(st)\n",
        "print('------')\n",
        "remove_block(st,3)\n",
        "print('After Removal')\n",
        "print_stack(st)\n",
        "print('------')\n",
        "\n",
        "print()\n",
        "print('======================================')\n",
        "print()"
      ],
      "metadata": {
        "id": "W3N4q7YAHExr",
        "colab": {
          "base_uri": "https://localhost:8080/"
        },
        "outputId": "debaa5b6-0d4f-46f6-d77d-c96e903cd308"
      },
      "execution_count": null,
      "outputs": [
        {
          "output_type": "stream",
          "name": "stdout",
          "text": [
            "Test 01\n",
            "Stack:\n",
            "| 5  |\n",
            "| 17 |\n",
            "| 23 |\n",
            "| 19 |\n",
            "| 4  |\n",
            "------\n",
            "After Removal\n",
            "| 5  |\n",
            "| 17 |\n",
            "| 23 |\n",
            "| 19 |\n",
            "| 4  |\n",
            "------\n",
            "\n",
            "======================================\n",
            "\n",
            "Test 02\n",
            "Stack:\n",
            "| 41 |\n",
            "| 15 |\n",
            "| 85 |\n",
            "| 73 |\n",
            "------\n",
            "After Removal\n",
            "| 41 |\n",
            "| 15 |\n",
            "| 85 |\n",
            "| 73 |\n",
            "------\n",
            "\n",
            "======================================\n",
            "\n"
          ]
        }
      ]
    },
    {
      "cell_type": "markdown",
      "source": [
        "Task 3: Stack Reverse"
      ],
      "metadata": {
        "id": "jcngRuqUWOfl"
      }
    },
    {
      "cell_type": "code",
      "source": [
        "from collections.abc import ItemsView\n",
        "def conditional_reverse(stack):\n",
        "  temp_stack=Stack()\n",
        "  while not stack.isEmpty():\n",
        "    temp_stack.push(stack.pop())\n",
        "  new_st=Stack()\n",
        "  last_one=None\n",
        "  while not temp_stack.isEmpty():\n",
        "    item=temp_stack.pop()\n",
        "    if last_one==None:\n",
        "      new_st.push(item)\n",
        "      last_one=item\n",
        "    elif last_one<item:\n",
        "      new_st.push(item)\n",
        "      last_one=item\n",
        "  return new_st\n",
        "def print_stack(st):\n",
        "  temp_stack=Stack()\n",
        "  while not st.isEmpty():\n",
        "    temp_stack.push(st.pop())\n",
        "  print()\n",
        "  while not temp_stack.isEmpty():\n",
        "    item=temp_stack.pop()\n",
        "    print(item)\n",
        "    st.push(item)\n",
        "\n",
        "\n",
        "\n",
        "\n",
        "print('Test 01')\n",
        "st=Stack()\n",
        "st.push(10)\n",
        "st.push(10)\n",
        "st.push(20)\n",
        "st.push(20)\n",
        "st.push(30)\n",
        "st.push(10)\n",
        "st.push(50)\n",
        "print('Stack:')\n",
        "print_stack(st)\n",
        "print('------')\n",
        "reversed_stack=conditional_reverse(st)\n",
        "print('Conditional Reversed Stack:')\n",
        "print_stack(reversed_stack) # This stack contains 50, 10, 30, 20, 10 in this order whereas top element should be 10\n",
        "print('------')"
      ],
      "metadata": {
        "id": "gLSgfDKPWPnP",
        "colab": {
          "base_uri": "https://localhost:8080/"
        },
        "outputId": "a85a82e3-ff5f-4ff5-fb09-b50eee00aed9"
      },
      "execution_count": null,
      "outputs": [
        {
          "output_type": "stream",
          "name": "stdout",
          "text": [
            "Test 01\n",
            "Stack:\n",
            "\n",
            "10\n",
            "10\n",
            "20\n",
            "20\n",
            "30\n",
            "10\n",
            "50\n",
            "------\n",
            "Conditional Reversed Stack:\n",
            "\n",
            "10\n",
            "20\n",
            "30\n",
            "50\n",
            "------\n"
          ]
        }
      ]
    }
  ]
}